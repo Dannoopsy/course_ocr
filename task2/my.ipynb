{
 "cells": [
  {
   "cell_type": "code",
   "execution_count": 1,
   "id": "5e2e5000-3cbd-465d-a6f4-7c9145d7e5bd",
   "metadata": {
    "scrolled": true
   },
   "outputs": [],
   "source": [
    "from data_reader import LMDBReader, CCPDHelper\n",
    "\n",
    "# your path to data\n",
    "train_path = r'../../CCPD/CCPD/train.lmdb'\n",
    "import cv2\n",
    "import numpy as np\n",
    "from matplotlib import pyplot as plt\n",
    "from IPython.display import clear_output\n",
    "train_reader = LMDBReader(train_path)\n",
    "train_reader.open()\n",
    "train_helper = CCPDHelper(train_reader)\n",
    "train_reader = LMDBReader(train_path)\n",
    "train_reader.open()\n",
    "train_helper = CCPDHelper(train_reader)\n",
    "names = train_reader.namelist()\n",
    "SEED = 42\n",
    "TRAIN_PART = 0.8\n",
    "rng = np.random.default_rng(SEED)\n",
    "permutation = rng.permutation(len(names))\n",
    "train_size = int(len(names) * 0.8)\n",
    "train_names = [names[i] for i in permutation[:train_size]]\n",
    "val_names = [names[i] for i in permutation[train_size:]]\n",
    "train_helper = CCPDHelper(train_reader, train_names)\n",
    "val_helper = CCPDHelper(train_reader, val_names)\n",
    "img0, txt0 = train_helper.item(0)"
   ]
  },
  {
   "cell_type": "code",
   "execution_count": 2,
   "id": "20db90a5-6557-4b09-b650-aefa5e52afe9",
   "metadata": {},
   "outputs": [],
   "source": [
    "pred_path = './valgt.txt'\n",
    "with open(pred_path, 'w', encoding='utf-8') as out:\n",
    "    for i in range(val_helper.size()):\n",
    "        img, gt = val_helper.item(i) # it will be 0 points if you will use gtruth from test database\n",
    "        print(i, gt, file=out)"
   ]
  },
  {
   "cell_type": "code",
   "execution_count": null,
   "id": "5f2f7ae2",
   "metadata": {},
   "outputs": [],
   "source": []
  },
  {
   "cell_type": "code",
   "execution_count": 3,
   "id": "fb1ee68d-bfa8-41d3-91b5-59c81519303d",
   "metadata": {},
   "outputs": [],
   "source": [
    "from tqdm import tqdm\n",
    "from collections import Counter\n",
    "\n",
    "# counters = [set() for _ in range(7)]\n",
    "# for i in tqdm(range(train_helper.size())):\n",
    "#     _, gtruth = train_helper.item(i)\n",
    "#     # print(len(gtruth))\n",
    "#     for place, c in enumerate(gtruth):\n",
    "#         counters[place].update(c)\n",
    "#     # if i > 10:\n",
    "#     #     break\n",
    "# for j in range(len(counters)):\n",
    "#     counters[j] = sorted(list(counters[j]))"
   ]
  },
  {
   "cell_type": "code",
   "execution_count": 4,
   "id": "f062202f",
   "metadata": {},
   "outputs": [],
   "source": [
    "iers = ['云', '京', '冀', '吉', '宁', '川', '新', '晋', '桂', '沪', '津', '浙', '渝', '湘', '琼', '甘', '皖', '粤', '苏', '蒙', '藏', '豫', '贵', '赣', '辽', '鄂', '闽', '陕', '青', '鲁', '黑']\n",
    "nums = ['0', '1', '2', '3', '4', '5', '6', '7', '8', '9']\n",
    "lets = ['A', 'B', 'C', 'D', 'E', 'F', 'G', 'H', 'J', 'K', 'L', 'M', 'N', 'P', 'Q', 'R', 'S', 'T', 'U', 'V', 'W', 'X', 'Y', 'Z']\n",
    "\n",
    "counters = [iers, lets] +  [nums+lets] * 5"
   ]
  },
  {
   "cell_type": "code",
   "execution_count": 5,
   "id": "88156aac-4132-49f5-a85d-5e50c956ef2a",
   "metadata": {},
   "outputs": [
    {
     "data": {
      "text/plain": [
       "('皖A5A454', [16, 0, 5, 10, 4, 5, 4])"
      ]
     },
     "execution_count": 5,
     "metadata": {},
     "output_type": "execute_result"
    }
   ],
   "source": [
    "def str2ids(gt):\n",
    "    ids = []\n",
    "    for i, c in enumerate(gt):\n",
    "        if c in counters[i]:\n",
    "            ids.append(counters[i].index(c))\n",
    "        else:\n",
    "            ids.append(0)\n",
    "    return ids\n",
    "i = 0\n",
    "_, gtruth = train_helper.item(i)\n",
    "gtruth, str2ids(gtruth)"
   ]
  },
  {
   "cell_type": "code",
   "execution_count": 6,
   "id": "384dbfe8-e0eb-40e9-92b9-b10ecd772b69",
   "metadata": {},
   "outputs": [
    {
     "name": "stderr",
     "output_type": "stream",
     "text": [
      "/opt/conda/lib/python3.7/site-packages/tqdm/auto.py:22: TqdmWarning: IProgress not found. Please update jupyter and ipywidgets. See https://ipywidgets.readthedocs.io/en/stable/user_install.html\n",
      "  from .autonotebook import tqdm as notebook_tqdm\n",
      "/opt/conda/lib/python3.7/site-packages/albumentations/augmentations/transforms.py:1693: UserWarning: Using default interpolation INTER_NEAREST, which is sub-optimal.Please specify interpolation mode for downscale and upscale explicitly.For additional information see this PR https://github.com/albumentations-team/albumentations/pull/584\n",
      "  \"Using default interpolation INTER_NEAREST, which is sub-optimal.\"\n"
     ]
    }
   ],
   "source": [
    "import os\n",
    "import torch\n",
    "from torch.utils.data import Dataset\n",
    "import torchvision.transforms as transforms\n",
    "from torch.utils.data import DataLoader\n",
    "import albumentations as A\n",
    "\n",
    "class MyDataset(Dataset):\n",
    "    def __init__(self, split, aug=None, rotation=None):\n",
    "        self.split = split\n",
    "        self.transform = transform\n",
    "        self.aug = aug\n",
    "        self.rotation = rotation\n",
    "    def __getitem__(self, i):\n",
    "        img, gtruth = self.split.item(i)\n",
    "        img = np.array(img).astype(np.uint8)\n",
    "        if self.aug is not None:\n",
    "            res = aug_big(image=img)\n",
    "            img = res['image']\n",
    "\n",
    "        gtruth = torch.tensor(str2ids(gtruth))\n",
    "        img = torch.tensor(img).permute(2, 0, 1)\n",
    "        return img, gtruth\n",
    "    def __len__(self):\n",
    "        return self.split.size()\n",
    "    \n",
    "\n",
    "image_size=172\n",
    "batch_size=16\n",
    "\n",
    "transform=transforms.Compose([\n",
    "   transforms.Resize(image_size),\n",
    "   transforms.ToTensor(),\n",
    "])\n",
    "test_transform=transforms.Compose([\n",
    "   transforms.Resize(image_size),\n",
    "   transforms.ToTensor(),\n",
    "   transforms.Normalize((0.485, 0.456, 0.406), (0.229, 0.224, 0.225)),\n",
    "])\n",
    "\n",
    "aprob = 0.08\n",
    "aug_big = A.Compose([\n",
    "    A.SmallestMaxSize(image_size, always_apply=True),\n",
    "    A.ColorJitter(p=aprob),\n",
    "    A.Downscale(scale_min=0.5, scale_max=0.8, p=aprob),\n",
    "    A.AdvancedBlur (blur_limit=(3, 5), sigmaX_limit=(0.9, 1.0), sigmaY_limit=(0.9, 1.0), rotate_limit=90, beta_limit=(0.5, 8.0), noise_limit=(0.9, 1.1), p=aprob), \n",
    "    A.GaussNoise(p=aprob),\n",
    "    A.HueSaturationValue(p=aprob),\n",
    "    A.MultiplicativeNoise(p=aprob),\n",
    "    A.PixelDropout(p=aprob),\n",
    "    A.RandomBrightnessContrast(p=aprob),\n",
    "    A.RandomFog(p=aprob),\n",
    "    A.RandomRain(p=aprob),\n",
    "    A.ISONoise(color_shift=(0.03, 0.09), p=aprob),\n",
    "    A.RandomShadow(p=aprob),\n",
    "    A.RandomToneCurve(scale=0.01,p=aprob),\n",
    "    A.MotionBlur (blur_limit=5, p=aprob),\n",
    "    A.RandomSnow(p=aprob),\n",
    "    A.RandomSunFlare(src_radius=150,p=aprob),\n",
    "    A.Spatter(intensity=0.2, p=aprob),\n",
    "    A.OneOf([\n",
    "        A.dropout.coarse_dropout.CoarseDropout(max_holes=4, max_height=25, max_width=25, p=aprob, fill_value=100),\n",
    "        A.dropout.coarse_dropout.CoarseDropout(max_holes=12, max_height=10, max_width=10, p=aprob, fill_value=100),\n",
    "        A.dropout.coarse_dropout.CoarseDropout(max_holes=2, max_height=40, max_width=40, p=aprob, fill_value=100),\n",
    "    ]),\n",
    "    A.Normalize(mean=(0.485, 0.456, 0.406), std=(0.229, 0.224, 0.225), max_pixel_value=255, always_apply=True)\n",
    "]\n",
    ")\n",
    "\n",
    "aug_test = A.Compose([\n",
    "    A.SmallestMaxSize(image_size, always_apply=True),\n",
    "    A.Normalize(mean=(0.485, 0.456, 0.406), std=(0.229, 0.224, 0.225), max_pixel_value=255, always_apply=True)\n",
    "]\n",
    ")\n",
    "import kornia.geometry.transform as GT\n",
    "def rotation(img, coords, w, h):    \n",
    "    img = torch.tensor(img).permute(2, 0, 1)\n",
    "    alpha = np.random.uniform(-25, 25)\n",
    "    dsize = torch.tensor([w, h])\n",
    "    center = torch.tensor([[h/2, w/2]])\n",
    "    mat = GT.get_rotation_matrix2d(center, torch.ones(1) * alpha, torch.ones(1, 2))\n",
    "    img = GT.warp_affine(img.unsqueeze(0), mat, dsize, padding_mode='reflection').squeeze()\n",
    "    coords = (mat.squeeze()[:2, :2] @ (coords - center).T.float() ).T + center\n",
    "    return img, coords\n",
    "\n",
    "trainset = MyDataset(train_helper, aug_big, True)\n",
    "valset = MyDataset(val_helper, aug_test)\n",
    "testset = MyDataset(test_helper, aug_test)\n",
    "\n",
    "trainloader = DataLoader(trainset, batch_size=batch_size, shuffle=True)\n",
    "valloader = DataLoader(valset, batch_size=batch_size, shuffle=True)"
   ]
  },
  {
   "cell_type": "code",
   "execution_count": 7,
   "id": "478b35ca-7a03-4971-92a3-75834f0a9303",
   "metadata": {},
   "outputs": [],
   "source": [
    "import torch\n",
    "import torch.nn as nn\n",
    "import torch.nn.functional as F\n",
    "\n",
    "class ClassificationModel(nn.Module):\n",
    "    def __init__(self, model, symbs, hidden_size):\n",
    "        super(ClassificationModel, self).__init__()\n",
    "        self.model = model\n",
    "        self.symbs = symbs\n",
    "        self.cls = nn.Linear(hidden_size, sum([len(c) for c in self.symbs]))\n",
    "    def forward(self, x):\n",
    "        x = self.model(x)\n",
    "        preds = self.cls(x)\n",
    "        return preds"
   ]
  },
  {
   "cell_type": "code",
   "execution_count": 8,
   "id": "b1bebe39",
   "metadata": {},
   "outputs": [],
   "source": [
    "from torchvision.models import efficientnet_b5\n",
    "from torchvision.models import efficientnet_b2\n",
    "from torch import nn\n",
    "\n",
    "device = 'cuda'\n",
    "bb = efficientnet_b5(weights='DEFAULT')\n",
    "bb.classifier[1] = nn.Identity()\n",
    "hidden_size = 2048\n",
    "model = ClassificationModel(bb, counters, hidden_size)\n",
    "model = model.to(device)\n",
    "optimizer = torch.optim.Adam(model.parameters())\n",
    "# loss_fn = nn.L1Loss(reduction='sum')\n",
    "loss_fn = nn.CrossEntropyLoss()\n",
    "epochs = 1\n",
    "scaler = torch.cuda.amp.GradScaler()\n",
    "scheduler = torch.optim.lr_scheduler.ExponentialLR(optimizer, gamma=0.95)\n",
    "losses_train = []\n",
    "losses_test = []\n",
    "MAXACC = 0\n",
    "coeff = 1\n",
    "noise=0."
   ]
  },
  {
   "cell_type": "code",
   "execution_count": 9,
   "id": "e33d7a13",
   "metadata": {},
   "outputs": [
    {
     "data": {
      "text/plain": [
       "[0, 31, 55, 89, 123, 157, 191, 225]"
      ]
     },
     "execution_count": 9,
     "metadata": {},
     "output_type": "execute_result"
    }
   ],
   "source": [
    "idxs_slice = [0]\n",
    "for c in counters:\n",
    "    idxs_slice.append(idxs_slice[-1] + len(c))\n",
    "idxs_slice"
   ]
  },
  {
   "cell_type": "code",
   "execution_count": 10,
   "id": "e573312b",
   "metadata": {},
   "outputs": [
    {
     "name": "stdout",
     "output_type": "stream",
     "text": [
      "loss train 0.045349183522744745\n",
      "acc 99.77821428571428 99.77821428571428\n"
     ]
    },
    {
     "data": {
      "image/png": "[encoded data removed]",
      "text/plain": [
       "<Figure size 640x480 with 1 Axes>"
      ]
     },
     "metadata": {},
     "output_type": "display_data"
    },
    {
     "data": {
      "image/png": "[encoded data removed]",
      "text/plain": [
       "<Figure size 640x480 with 1 Axes>"
      ]
     },
     "metadata": {},
     "output_type": "display_data"
    }
   ],
   "source": [
    "from course_ocr_t2.evaluate import evaluate\n",
    "\n",
    "for i in range(epochs):\n",
    "    loss_train = 0\n",
    "    \n",
    "#     loss_test = 0\n",
    "#     acc_test = 0\n",
    "    model.train()\n",
    "    \n",
    "    for x, y in tqdm(trainloader):\n",
    "#         with torch.autocast(device_type='cuda', dtype=torch.float16):\n",
    "        pred = model(x.to(device))\n",
    "        loss = 0\n",
    "        \n",
    "        for j in range(len(counters)):\n",
    "            i1 = idxs_slice[j]\n",
    "            i2 = idxs_slice[j + 1]\n",
    "#             print(i1, i2, j)\n",
    "            loss += loss_fn(pred[:, i1:i2], y[:, j].to(device))\n",
    "        optimizer.zero_grad()\n",
    "        loss.backward()\n",
    "        optimizer.step()\n",
    "#         scaler.scale(loss).backward()\n",
    "#         scaler.step(optimizer)\n",
    "#         scaler.update()\n",
    "        loss_train += loss.item()\n",
    "    scheduler.step()\n",
    "    \n",
    "    model.eval()\n",
    "    losses_train.append(loss_train / len(trainset))\n",
    "\n",
    "    with torch.no_grad():\n",
    "        \n",
    "        pred_path = './valpred.txt'\n",
    "        with open(pred_path, 'w', encoding='utf-8') as out:\n",
    "            for i in range(val_helper.size()):\n",
    "                img, _ = valset[i]\n",
    "                pred = model(img.unsqueeze(0).to(device))\n",
    "                stri = []\n",
    "                for j in range(len(counters)):\n",
    "                    i1 = idxs_slice[j]\n",
    "                    i2 = idxs_slice[j + 1]\n",
    "                    stri.append(counters[j][pred[0, i1:i2].argmax().item()])\n",
    "                stri = ''.join(stri)\n",
    "                print(i, stri, file=out)\n",
    "        acc = evaluate('./valgt.txt', './valpred.txt') * 100\n",
    "        losses_test.append(acc)\n",
    "    \n",
    "    if acc > MAXACC:\n",
    "        MAXACC = acc\n",
    "        torch.save(model.state_dict(), '../../cls.pkl')\n",
    "        \n",
    "    \n",
    "    clear_output()\n",
    "    print('loss train', losses_train[-1])#, 'pred_ep_test', pred_ep_test.item() / len(testset))\n",
    "    print('acc', acc, MAXACC)\n",
    "#     noise = min(0.1 * pred_ep_train.item() / len(trainset), 1)\n",
    "    plt.plot(losses_train, label='train')\n",
    "    plt.legend()\n",
    "    plt.show()\n",
    "    \n",
    "    plt.plot(losses_test, label='test')\n",
    "    plt.legend()\n",
    "    plt.show()"
   ]
  },
  {
   "cell_type": "code",
   "execution_count": 12,
   "id": "2668319a",
   "metadata": {},
   "outputs": [],
   "source": [
    "test_path = r'../../CCPD/CCPD/test.lmdb'\n",
    "pred_path = './pred.txt'"
   ]
  },
  {
   "cell_type": "code",
   "execution_count": null,
   "id": "1225b23e",
   "metadata": {},
   "outputs": [
    {
     "name": "stderr",
     "output_type": "stream",
     "text": [
      " 92%|███████████████████████████████████████████████████████████████████████████████████████████▎       | 18496/20052 [10:17<00:51, 30.40it/s]"
     ]
    }
   ],
   "source": [
    "with open(pred_path, 'w', encoding='utf-8') as out:\n",
    "    with LMDBReader(test_path) as test_reader:\n",
    "        helper = CCPDHelper(test_reader)\n",
    "        testset = MyDataset(helper, aug_test)\n",
    "        for i in tqdm(range(helper.size())):\n",
    "            img, _ = testset[i]\n",
    "            pred = model(img.unsqueeze(0).to(device))\n",
    "            stri = []\n",
    "            for j in range(len(counters)):\n",
    "                i1 = idxs_slice[j]\n",
    "                i2 = idxs_slice[j + 1]\n",
    "                stri.append(counters[j][pred[0, i1:i2].argmax().item()])\n",
    "            stri = ''.join(stri)\n",
    "            print(i, stri, file=out)"
   ]
  },
  {
   "cell_type": "code",
   "execution_count": null,
   "id": "1d1be39b",
   "metadata": {},
   "outputs": [],
   "source": [
    "evaluate('./gt.txt', './pred.txt') * 100"
   ]
  }
 ],
 "metadata": {
  "kernelspec": {
   "display_name": "Python 3 (ipykernel)",
   "language": "python",
   "name": "python3"
  },
  "language_info": {
   "codemirror_mode": {
    "name": "ipython",
    "version": 3
   },
   "file_extension": ".py",
   "mimetype": "text/x-python",
   "name": "python",
   "nbconvert_exporter": "python",
   "pygments_lexer": "ipython3",
   "version": "3.7.12"
  }
 },
 "nbformat": 4,
 "nbformat_minor": 5
}
